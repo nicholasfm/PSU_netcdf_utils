{
 "cells": [
  {
   "cell_type": "code",
   "execution_count": null,
   "metadata": {},
   "outputs": [],
   "source": [
    "import ConfigParser"
   ]
  },
  {
   "cell_type": "markdown",
   "metadata": {},
   "source": [
    "## Define reading function"
   ]
  },
  {
   "cell_type": "code",
   "execution_count": null,
   "metadata": {},
   "outputs": [],
   "source": [
    "def ConfigSectionMap(section):\n",
    "    dict1 = {}\n",
    "    options = Config.options(section)\n",
    "    for option in options:\n",
    "        try:\n",
    "            dict1[option] = Config.get(section, option)\n",
    "            if dict1[option] == -1:\n",
    "                DebugPrint(\"skip: %s\" % option)\n",
    "        except:\n",
    "            print(\"exception on %s!\" % option)\n",
    "            dict1[option] = None\n",
    "    return dict1"
   ]
  },
  {
   "cell_type": "markdown",
   "metadata": {},
   "source": [
    "## Write file"
   ]
  },
  {
   "cell_type": "code",
   "execution_count": null,
   "metadata": {},
   "outputs": [],
   "source": [
    "Config = ConfigParser.ConfigParser()\n",
    "\n",
    "# lets create that config file for next time...\n",
    "cfgfile = open('config.ini','w')\n",
    "\n",
    "# add the settings to the structure of the file, and lets write it out...\n",
    "Config.add_section('directories')\n",
    "Config.add_section('outputs')\n",
    "\n",
    "Config.set('directories','in_dir','./files_in')\n",
    "Config.set('directories','output_dir','./files_out')\n",
    "Config.set('outputs','output_text',True)\n",
    "\n",
    "Config.write(cfgfile)\n",
    "cfgfile.close()"
   ]
  },
  {
   "cell_type": "markdown",
   "metadata": {},
   "source": [
    "## Read file"
   ]
  },
  {
   "cell_type": "code",
   "execution_count": null,
   "metadata": {},
   "outputs": [],
   "source": [
    "Config = ConfigParser.ConfigParser()\n",
    "Config.read('./config.ini')\n",
    "sabre_out_dir = ConfigSectionMap('directories')['in_dir']\n",
    "output_dir = ConfigSectionMap('directories')['output_dir']\n",
    "output_text = ConfigSectionMap('outputs')['output_text']"
   ]
  },
  {
   "cell_type": "code",
   "execution_count": null,
   "metadata": {},
   "outputs": [],
   "source": []
  }
 ],
 "metadata": {
  "kernelspec": {
   "display_name": "Python 2",
   "language": "python",
   "name": "python2"
  },
  "language_info": {
   "codemirror_mode": {
    "name": "ipython",
    "version": 2
   },
   "file_extension": ".py",
   "mimetype": "text/x-python",
   "name": "python",
   "nbconvert_exporter": "python",
   "pygments_lexer": "ipython2",
   "version": "2.7.14"
  }
 },
 "nbformat": 4,
 "nbformat_minor": 2
}
